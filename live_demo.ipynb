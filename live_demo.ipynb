{
 "cells": [
  {
   "attachments": {},
   "cell_type": "markdown",
   "metadata": {},
   "source": [
    "<!-- # <h1 style=\"text-align: center; font-size: 55px;\">Power Analysis</h1> -->\n",
    "<img src=\"pictures/Bsides_open_slide.png\" width=\"95%\" height=\"95%\">\n",
    "\n",
    "---\n",
    "## Chipwhisperer Nano \n",
    "\n",
    "<img src=\"pictures/chipwhisperer.png\" alt=\"ChipwhispererNano\" width=\"95%\" height=\"95%\">"
   ]
  },
  {
   "attachments": {},
   "cell_type": "markdown",
   "metadata": {},
   "source": [
    "# Imports and Constants"
   ]
  },
  {
   "cell_type": "code",
   "execution_count": null,
   "metadata": {},
   "outputs": [],
   "source": [
    "from sklearn.decomposition import PCA\n",
    "from collections import OrderedDict\n",
    "import matplotlib.pyplot as plt\n",
    "from tqdm.notebook import tqdm\n",
    "import chipwhisperer as cw\n",
    "import pandas as pd\n",
    "import numpy as np\n",
    "import time\n",
    "\n",
    "SCOPETYPE = 'CWNANO'\n",
    "PLATFORM = 'CWNANO'\n",
    "CRYPTO_TARGET='TINYAES128C'\n",
    "SS_VER='SS_VER_2_1'\n",
    "NOPS_COMMAND = 'N'\n",
    "SHL_COMMAND = 'U'\n",
    "SLEEP_COMMAND = 'S'\n",
    "ENCRYPT_COMMAND = 'E'\n",
    "MATRIX_MULTIPLICATION_COMMAND = 'M'"
   ]
  },
  {
   "attachments": {},
   "cell_type": "markdown",
   "metadata": {},
   "source": [
    "# Initialize Scope and Target"
   ]
  },
  {
   "cell_type": "code",
   "execution_count": null,
   "metadata": {},
   "outputs": [],
   "source": [
    "try:\n",
    "    if not scope.connectStatus:\n",
    "        scope.con()\n",
    "except NameError:\n",
    "    scope = cw.scope()\n",
    "   \n",
    "try:\n",
    "    target = cw.target(scope)\n",
    "except IOError:\n",
    "    print(\"INFO: Caught exception on reconnecting to target - attempting to reconnect to scope first.\")\n",
    "    print(\"INFO: This is a work-around when USB has died without Python knowing. Ignore errors above this line.\")\n",
    "    scope = cw.scope()\n",
    "    target = cw.target(scope, cw.target.SimpleSerial)\n",
    "\n",
    "print(\"INFO: Found ChipWhisperer😍\")\n",
    "\n",
    "time.sleep(0.05)\n",
    "scope.default_setup()\n",
    "\n",
    "\n",
    "def reset_target(scope):\n",
    "    scope.io.nrst = 'low'\n",
    "    time.sleep(0.05)\n",
    "    scope.io.nrst = 'high_z'\n",
    "    time.sleep(0.05)\n",
    "\n"
   ]
  },
  {
   "attachments": {},
   "cell_type": "markdown",
   "metadata": {},
   "source": [
    "# Some function defintions"
   ]
  },
  {
   "cell_type": "code",
   "execution_count": null,
   "metadata": {},
   "outputs": [],
   "source": [
    "def get_trace(command, msg=[], response_buffer_len=0):\n",
    "\n",
    "    # prepare for power capture\n",
    "    scope.arm()\n",
    "\n",
    "    # send the command\n",
    "    target.simpleserial_write(command, msg)\n",
    "\n",
    "    # capture\n",
    "    ret = scope.capture()\n",
    "    if ret:\n",
    "        print(\"Target timed out!\")\n",
    "        return None\n",
    "    if response_buffer_len > 0:\n",
    "        _ = target.simpleserial_read('r', response_buffer_len) # empty the response buffer\n",
    "    wave = scope.get_last_trace()\n",
    "    return normalize(wave)\n",
    "\n",
    "def normalize(signal):\n",
    "    if signal.std() == 0:\n",
    "        return signal\n",
    "    return (signal - signal.mean()) / signal.std()\n",
    "\n",
    "# assuming traces are normalized\n",
    "def cosine_similarity(trace1, trace2):\n",
    "    return np.dot(trace1, trace2)/(np.linalg.norm(trace1)*np.linalg.norm(trace2))"
   ]
  },
  {
   "attachments": {},
   "cell_type": "markdown",
   "metadata": {},
   "source": [
    "# Visualizing power traces\n",
    "---"
   ]
  },
  {
   "cell_type": "code",
   "execution_count": null,
   "metadata": {},
   "outputs": [],
   "source": [
    "# for the algorithms in this part of the demo the running time is around 15 microseconds\n",
    "running_time = 1.5 * (10 ** -5)\n",
    "\n",
    "# set the sampling rate and number of samples per trace\n",
    "scope.adc.clk_freq = 30*(10**6) \n",
    "scope.adc.samples = (running_time * scope.adc.clk_freq)\n",
    "\n",
    "# capture two traces\n",
    "nop_wave = get_trace(command=NOPS_COMMAND) # Execute NOP instructions\n",
    "shl_wave = get_trace(command=SHL_COMMAND) # Execute SHL instructions\n",
    "\n",
    "# Plot the traces\n",
    "fig, axs = plt.subplots(2, 1, figsize=(15, 8))\n",
    "fig.subplots_adjust(hspace=0.5)\n",
    "\n",
    "axs[0].plot(np.linspace(0, (running_time* 10**6), len(nop_wave)), nop_wave)\n",
    "axs[0].set_title('NOP instructions', fontsize=17) ; axs[0].set_ylim([-3,4]) ; axs[0].tick_params(axis='both', labelsize=12); axs[0].set_xlabel(\"Time (\\u03BCs)\", fontsize=14)\n",
    "\n",
    "axs[1].plot(np.linspace(0, (running_time* 10**6), len(shl_wave)), shl_wave)\n",
    "axs[1].set_title('Shift Left instructions', fontsize=17); axs[1].set_ylim([-3,4]); axs[1].tick_params(axis='both', labelsize=12) ; axs[1].set_xlabel(\"Time (\\u03BCs)\", fontsize=14);\n",
    "\n",
    "plt.show()"
   ]
  },
  {
   "attachments": {},
   "cell_type": "markdown",
   "metadata": {},
   "source": [
    "# Running Applications - AES, Matrix Multiplication, Idle\n",
    "---"
   ]
  },
  {
   "attachments": {},
   "cell_type": "markdown",
   "metadata": {},
   "source": [
    "# Collect traces of 3 algorithms"
   ]
  },
  {
   "cell_type": "code",
   "execution_count": null,
   "metadata": {},
   "outputs": [],
   "source": [
    "# for the algorithms in this part of the demo the running time is around 6ms\n",
    "running_time = 0.006\n",
    "\n",
    "# set the sampling rate and number of samples per trace\n",
    "scope.adc.clk_freq = 7500000\n",
    "scope.adc.samples = (running_time * scope.adc.clk_freq)\n",
    "\n",
    "# Set Encryption Key\n",
    "key = bytearray.fromhex(\"2b7e151628aed2a6abf7158809cf4f3e\")\n",
    "target.set_key(key)\n",
    "\n",
    "plaintext = bytearray.fromhex(\"6bc1bee22e409f96e93d7e117393172b\")\n",
    "NUM_traces = 100\n",
    "all_waves = []\n",
    "application = []\n",
    "\n",
    "for i in tqdm(range(NUM_traces), \"Collecting AES Encryption traces\"):\n",
    "    wave = get_trace(command=ENCRYPT_COMMAND, msg=plaintext, response_buffer_len=16) # Encrypt command\n",
    "    if wave is not None:\n",
    "        all_waves.append(wave)\n",
    "        application.append(\"AES Encryption\")\n",
    "\n",
    "for i in tqdm(range(NUM_traces), \"Collecting Matrix Multiplication traces\"):\n",
    "    wave = get_trace(command=MATRIX_MULTIPLICATION_COMMAND) # Matrix multiplication command\n",
    "    if wave is not None:\n",
    "        all_waves.append(wave)\n",
    "        application.append(\"Matrix Multiplication\")\n",
    "\n",
    "for i in tqdm(range(NUM_traces),  \"Collecting Idle traces\"):\n",
    "    wave = get_trace(command=SLEEP_COMMAND) # Sleep command\n",
    "    if wave is not None:\n",
    "        all_waves.append(wave)\n",
    "        application.append(\"Idle\")\n"
   ]
  },
  {
   "attachments": {},
   "cell_type": "markdown",
   "metadata": {},
   "source": [
    "<font size=\"5\">\n",
    "\n",
    "## Capture Device code\n",
    "\n",
    "\n",
    "```python\n",
    "def get_trace(command, msg):\n",
    "    # get ready for power trace capture\n",
    "    scope.arm()\n",
    "\n",
    "    # send the command\n",
    "    target.simpleserial_write(command, msg)\n",
    "\n",
    "    trace = scope.get_last_trace()\n",
    "\t\n",
    "    return trace\n",
    "```\n",
    "</font>\n",
    "\n",
    "\n",
    "<font size=\"5\">\n",
    "\n",
    "## Target Device code\n",
    "\n",
    "\n",
    "```c\n",
    "uint8_t encrypt(uint8_t* pt, uint8_t len)\n",
    "{\n",
    "\ttrigger_high();\n",
    "\t    aes_enc(pt); // encrypting the data block \n",
    "\ttrigger_low();\n",
    "\tsimpleserial_put('r', 16, pt); // write back cipher\n",
    "\treturn 0x00;\n",
    "}\n",
    "```\n",
    "</font>"
   ]
  },
  {
   "attachments": {},
   "cell_type": "markdown",
   "metadata": {},
   "source": [
    "# Plot one of each type"
   ]
  },
  {
   "cell_type": "code",
   "execution_count": null,
   "metadata": {},
   "outputs": [],
   "source": [
    "application1_offset = 0\n",
    "application2_offset = NUM_traces + 1\n",
    "application3_offset =(2*NUM_traces) + 1\n",
    "\n",
    "plot_length = 500\n",
    "start_offset = 0\n",
    "\n",
    "application1_trace1 = all_waves[application1_offset]\n",
    "application1_trace2 = all_waves[application1_offset+1]\n",
    "\n",
    "application2_trace1 = all_waves[application2_offset]\n",
    "application2_trace2 = all_waves[application2_offset+1]\n",
    "\n",
    "application3_trace1 = all_waves[application3_offset]\n",
    "application3_trace2 = all_waves[application3_offset+1]\n",
    "\n",
    "x = np.linspace(0, (running_time* (10**6)), len(all_waves[0])) # all traces are the same length so this is ok\n",
    "x = x[start_offset:start_offset + plot_length]\n",
    "\n",
    "# Create a figure and three subplots\n",
    "fig, axs = plt.subplots(3, 1, figsize=(15,8 ))\n",
    "fig.subplots_adjust(hspace=0.85)\n",
    "\n",
    "axs[0].plot(x, application1_trace1[start_offset: start_offset + plot_length])\n",
    "axs[0].set_title(application[application1_offset], fontsize=18) ;axs[0].tick_params(axis='both', labelsize=12); axs[0].set_xlabel(\"Time (\\u03BCs)\", fontsize=12)\n",
    "\n",
    "axs[1].plot(x, application2_trace1[start_offset: start_offset + plot_length])\n",
    "axs[1].set_title(application[application2_offset], fontsize=18)  ;axs[1].tick_params(axis='both', labelsize=12); axs[1].set_xlabel(\"Time (\\u03BCs)\", fontsize=12)\n",
    "\n",
    "axs[2].plot(x, application3_trace1[start_offset: start_offset + plot_length])\n",
    "axs[2].set_title(application[application3_offset], fontsize=18) ; axs[2].tick_params(axis='both', labelsize=12); axs[2].set_xlabel(\"Time (\\u03BCs)\", fontsize=12)\n",
    "\n",
    "plt.show()"
   ]
  },
  {
   "attachments": {},
   "cell_type": "markdown",
   "metadata": {},
   "source": [
    "# Calculate the Similarity between traces"
   ]
  },
  {
   "cell_type": "code",
   "execution_count": null,
   "metadata": {},
   "outputs": [],
   "source": [
    "cosine_similarity_matrix = np.array([\n",
    "    [cosine_similarity(application1_trace1, application1_trace2), np.NaN, np.NaN],\n",
    "    [cosine_similarity(application2_trace1, application1_trace1), cosine_similarity(application2_trace1, application2_trace2), np.NaN],\n",
    "    [cosine_similarity(application3_trace1, application1_trace1), cosine_similarity(application3_trace1, application2_trace1), cosine_similarity(application3_trace1, application3_trace2)],\n",
    "])\n",
    "\n",
    "application_names = [f\"{application[application1_offset]}\".replace(' ', '\\n'), f\"{application[application2_offset]}\".replace(' ', '\\n'), f\"{application[application3_offset]}\".replace(' ', '\\n')]\n",
    "fig, ax = plt.subplots(figsize=(15,7))\n",
    "fig.suptitle(\"                      Cosine similarity between traces\", fontsize=22, ha='center')\n",
    "\n",
    "\n",
    "# Plot the heatmap using imshow with masked values\n",
    "im = ax.imshow(cosine_similarity_matrix, cmap='Greens', vmin=-1, vmax=1)\n",
    "\n",
    "# Set the ticks and labels\n",
    "ax.set_xticks(np.arange(len(application_names)))\n",
    "ax.set_yticks(np.arange(len(application_names)))\n",
    "ax.set_xticklabels(application_names, fontsize=16)\n",
    "ax.set_yticklabels(application_names, fontsize=16)\n",
    "\n",
    "# Add value annotations to each cell\n",
    "for i in range(len(application_names)):\n",
    "    for j in range(len(application_names)):\n",
    "        if i >= j:  # Only add annotations for the lower triangle and diagonal\n",
    "            text_color = 'white' if cosine_similarity_matrix[i, j] > 0.5 else 'black'\n",
    "            text = ax.text(j, i, \"{:.3f}\".format(cosine_similarity_matrix[i, j]), ha=\"center\", va=\"center\", color=text_color, fontsize=22)\n",
    "\n",
    "# Add a colorbar\n",
    "cbar = ax.figure.colorbar(im, ax=ax)\n",
    "\n",
    "# Set the title\n",
    "ax.spines['top'].set_visible(False)\n",
    "ax.spines['right'].set_visible(False)\n",
    "\n",
    "# Show the plot\n",
    "plt.show()\n"
   ]
  },
  {
   "attachments": {},
   "cell_type": "markdown",
   "metadata": {},
   "source": [
    "# Apply dimensionality Reduction - PCA"
   ]
  },
  {
   "cell_type": "code",
   "execution_count": null,
   "metadata": {},
   "outputs": [],
   "source": [
    "waves_as_np = np.array(all_waves) # waves as np array\n",
    "\n",
    "unique_labels = list(OrderedDict.fromkeys(application)) # keep the order of applications\n",
    "\n",
    "color_mapping = {element: index for index, element in enumerate(unique_labels)} # application_name to color\n",
    "reverse_color_mapping = {value: key for key, value in color_mapping.items()} # color to application name\n",
    "colors = np.array([color_mapping[element] for element in application])\n",
    "\n",
    "# Dimensionality reduction\n",
    "pca = PCA(n_components=3, random_state=123)\n",
    "pca_data =pca.fit_transform(waves_as_np)"
   ]
  },
  {
   "attachments": {},
   "cell_type": "markdown",
   "metadata": {},
   "source": [
    "# Visualize in 3d"
   ]
  },
  {
   "cell_type": "code",
   "execution_count": null,
   "metadata": {},
   "outputs": [],
   "source": [
    "%matplotlib widget\n",
    "# visualize in 3d\n",
    "fig = plt.figure('Scatter Of Traces', figsize=(15,7))\n",
    "ax = fig.add_subplot(1, 1, 1, projection='3d')\n",
    "\n",
    "# plot each application seperately\n",
    "for color in color_mapping.values():\n",
    "    mask = colors == color\n",
    "    ax.scatter(pca_data[:, 0][mask],pca_data[:, 1][mask],pca_data[:, 2][mask], label=reverse_color_mapping[color])\n",
    "\n",
    "ax.legend(fontsize=18)\n",
    "plt.show()"
   ]
  },
  {
   "attachments": {},
   "cell_type": "markdown",
   "metadata": {},
   "source": [
    "# Data Also Matters"
   ]
  },
  {
   "cell_type": "code",
   "execution_count": null,
   "metadata": {},
   "outputs": [],
   "source": [
    "plaintext1 = bytearray.fromhex(\"6bc1bee22e409f96e93d7e117393172b\")\n",
    "plaintext2 = bytearray.fromhex(\"6bc1bee22e409f96e93d7e117393172c\")\n",
    "NUM_traces = 100\n",
    "all_waves1 = []\n",
    "application1 = []\n",
    "\n",
    "for i in tqdm(range(NUM_traces), \"Collecting AES Encryption traces - plaintext1\"):\n",
    "    wave = get_trace(command=ENCRYPT_COMMAND, msg=plaintext1, response_buffer_len=16) # Encrypt command\n",
    "    if wave is not None:\n",
    "        all_waves1.append(wave)\n",
    "        application1.append(\"AES Encryption plaintext1\")\n",
    "\n",
    "for i in tqdm(range(NUM_traces), \"Collecting AES Encryption traces - plaintext2\"):\n",
    "    wave = get_trace(command=ENCRYPT_COMMAND, msg=plaintext2, response_buffer_len=16) # Encrypt command\n",
    "    if wave is not None:\n",
    "        all_waves1.append(wave)\n",
    "        application1.append(\"AES Encryption plaintext2\")\n"
   ]
  },
  {
   "cell_type": "code",
   "execution_count": null,
   "metadata": {},
   "outputs": [],
   "source": [
    "waves_as_np1 = np.array(all_waves1) # waves as np array\n",
    "\n",
    "unique_labels1 = list(OrderedDict.fromkeys(application1)) # keep the order of applications\n",
    "\n",
    "color_mapping1 = {element: index for index, element in enumerate(unique_labels1)} # application_name to color\n",
    "reverse_color_mapping1 = {value: key for key, value in color_mapping1.items()} # color to application name\n",
    "colors1 = np.array([color_mapping1[element] for element in application1])\n",
    "\n",
    "# Dimensionality reduction\n",
    "pca1 = PCA(n_components=3)\n",
    "pca_data1 =pca.fit_transform(waves_as_np1)\n",
    "\n",
    "# visualize in 3d\n",
    "fig = plt.figure('AES Encryption with 2 plaintext', figsize=(15,8))\n",
    "ax = fig.add_subplot(1, 1, 1, projection='3d')\n",
    "\n",
    "# plot each application seperately\n",
    "for color in color_mapping1.values():\n",
    "    mask = colors1 == color\n",
    "    ax.scatter(pca_data1[:, 0][mask],pca_data1[:, 1][mask],pca_data1[:, 2][mask], label=reverse_color_mapping1[color])\n",
    "\n",
    "ax.legend(fontsize=18)\n",
    "plt.show()"
   ]
  },
  {
   "attachments": {},
   "cell_type": "markdown",
   "metadata": {},
   "source": [
    "<img src=\"pictures/Bsides_end_slide.png\" width=\"90%\" height=\"90%\">\n"
   ]
  }
 ],
 "metadata": {
  "kernelspec": {
   "display_name": "Python 3 (ipykernel)",
   "language": "python",
   "name": "python3"
  },
  "language_info": {
   "codemirror_mode": {
    "name": "ipython",
    "version": 3
   },
   "file_extension": ".py",
   "mimetype": "text/x-python",
   "name": "python",
   "nbconvert_exporter": "python",
   "pygments_lexer": "ipython3",
   "version": "3.9.5"
  }
 },
 "nbformat": 4,
 "nbformat_minor": 4
}
